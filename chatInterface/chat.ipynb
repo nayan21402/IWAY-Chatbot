{
 "cells": [
  {
   "cell_type": "code",
   "execution_count": 1,
   "metadata": {},
   "outputs": [
    {
     "name": "stderr",
     "output_type": "stream",
     "text": [
      "c:\\Users\\Nayan\\Desktop\\chatInterface\\venv\\Lib\\site-packages\\fuzzywuzzy\\fuzz.py:11: UserWarning: Using slow pure-python SequenceMatcher. Install python-Levenshtein to remove this warning\n",
      "  warnings.warn('Using slow pure-python SequenceMatcher. Install python-Levenshtein to remove this warning')\n"
     ]
    }
   ],
   "source": [
    "import ollama\n",
    "import json\n",
    "from fuzzywuzzy import process\n",
    "from IPython.display import display\n"
   ]
  },
  {
   "cell_type": "code",
   "execution_count": 8,
   "metadata": {},
   "outputs": [
    {
     "name": "stdout",
     "output_type": "stream",
     "text": [
      "['3-D LIFT LOBBY-5', 'pantry 6-B', '5-B-1', 'Male Washroom 1', '3-B-5 GATE-2', '5-A-1 GATE-1', '3A-2F', '1A-1 Entry-1', 'STAIRS 2', 'STAIRS-1', '2-A-2 GATE-2', '6-C-LIFT LOBBY-4', '2-A-1A3', 'G-A-3-C', 'Auditorium Entry 2', 'Electrical Room-C', '3A-2J', '3B-4G', '3B-2', '5-A-2 GATE-2', 'Pantry-3-A', '1C-1B', '5-A-2 GATE-1', '4-B-1F', '2B-4H', 'AHU Room -A-L1', 'Store-3-D', '501', 'bed room', '1-B CORRIDOR-1', '2-C-3A', '1C-2D', 'Entry to D Block/Auditorium ', '404', 'Pantry-G-B', '3C-A2', '5-A-2C', '3C-A5', '2-A-2D', 'Research Park Security', 'Entry-1B-1', '1A-1B', '4-B Entry', '2-A CORRIDOR 1', 'pantry 5-A', '2C-1 Entry', '1C-2B', '3A-1B', '2-B LIFT LOBBY-2', '3C-4A', 'Pantry-3-C', '2-A-1B', 'Electronics Prototyping Lab', 'STAIRS-3', '4-B-1K', 'STAIRS-', '1C-2F', '5-C-1 GATE-1', '4-C-1E', '2B-5D', '2-C BALCONY', '3B-4E', 'Exhibition Room', '2B-3', '4-C-LIFT LOBBY-4', '2C-A5', 'Female Washroom 1', 'Office-A0', 'Pantry-G-C', 'Entry-1B-2', '3A-2H', '302', 'BEDROOM', '3B CORRIDOR 2', '3A-1C ', '6-B-CORRIDOR-1', '5-B-3 GATE-1', 'Back office', 'Student Room', '2-A-1C', 'Faculty Room', '2-B CORRIDOR-1', 'CAD/CAM', 'STAIRS 4', '6-C-1 GATE-1', '5-B-2', 'AHU Room-G-D', 'EDC office entry 3', '3B-4C', '2-A-1 GATE-1', '2-A LIFT LOBBY-1', '3C-3 Gate-1', '5-B LIFT LOBBY-2 ', '1A-2A', 'G-A-3-B', 'AHU Room-C', 'pantry 5-C', 'Entry to Reception Area', ' STAIRS-1', '1A-1C', '403', '4-B-1D', '3-A-1A3', 'Stairs towards Parking', '4-B-1H', '6-A LIFT LOBBY-1', '5-A-2A', '2C-A3', '5-B-5 GATE-1', '2B-5C', 'Electrical', '2B-5 GATE-1', '2B-4I', '3B-4F', '2-D GATE-2', '6-C-1 GATE-4', 'Pantry-3-D', '4-B-1I', 'Back office C-L2', '5-A-1A', '3C-2 Gate-2', '6-A-1 GATE-1', '2B-5 GATE-2', 'G-A LIFT LOBBY 1', 'AHU-B-L1', '1C-2A', 'AHU Room-G-C', '5-C LIFT LOBBY-3', 'Board Room-3-D', '3B-5C', '5-B-4 GATE-1', 'AHU Room2-C', '2-B AHU Room ', '5-B-5 GATE-2', 'pantry 4-C', '3-C LIFT LOBBY-3', '4-C-1H', '2-A-2G', '1-A LIFT LOBBY-1', 'Pantry 2-C', '3-B-4 GATE-2', '3B-5E', 'STAIRS 5', '2B-4D', '2B-4 GATE-2', '4-C-LIFT LOBBY-3', '4-A-2B', '3C-A3', 'Block A Entry', '3-B LIFT LOBBY-2', '4-C-1C', '3A-2D', '5-C-4 GATE-2', 'Electrical Room', '6-C CORRIDOR-2', 'G-C LIFT LOBBY 3', '6-C-1 GATE-2', '6-B-1 GATE-3', '2B-4G', '4-B-1A', '4-B-1C', '202', '3C-4-Gate-1 (mPRAGITI)', '3C CORRIDOR 1', '2-A-2I', 'pantry 5-B', '4-A-2H', '4-C GATE-2', '4-A-2I', '5-B-CORRIDOR-1', 'Handicapped Washroom 1', '6-C CORRIDOR-1', '3B-5A', '4-A-2D', '3-D TERRACE', '4-C TERRACE GARDEN', 'Electrical Room  C-L2', '3-A TERRACE', '2B-4B', 'Lab GB-4A', '2-A-2E', '3B-4A', 'Pantry 2-A', '1-C LIFT LOBBY-4', '2-C-3 GATE-2', '5-B-CORRIDOR-2', '1C-2E', '3-A-1A2', 'NCAHT/GA-3', '1-B Lift-lobby-2', '5-C-2 GATE-2', '2-C-3 GATE-1', '4-A-2C', '503', '3C-1A', '4-B-1B', '2B-1', '2B-5B', '5-A-1C', '401', '1-D LIFT LOBBY-5', '5-B-3 GATE-2', '402', '5-A-LIFT LOBBY-1', '4-A-C/D', 'Lab G-A-4-C', '6-B-CORRIDOR-2', '304', '3-C BALCONY', 'PS-D-L1', 'G-B LIFT LOBBY 2', '1A-2C', '2B-5E', 'pantry 4-A', '2-C LIFT LOBBY-4', '2-A-2J', '3-A-1 GATE-2', '4-A-2A', 'Store-D-L2', '2-C-3B', '3-D GATE-1', '5-C-3 GATE-1', '502', '5-C CORRIDOR-2', '4-A entry', '4-C CORRIDOR-1', '2-D GATE-1', '201', '2-B PANTRY', '3B-4H', '4-B-1J', 'STAIRS 1', 'Electrical Room-3-D', '3A-2G', '4-A Lift Lobby-1 ', '4-A-2F', 'G-C LIFT LOBBY 4', '3C-1 Entry', '4-A Terrace', '3C-4B', 'Pantry-B-L1', '3A Entry', '2B-4C', 'Vehant Technologies', '2-D CORRIDOR-1', '6-C-1 GATE-3', '2B-5F', '2-A-2B', '3B-5B', '5-B-4 GATE-2', 'Store', 'Conference L2 -1', '2-C CORRIDOR-2', '2-A-2C', '3B-4 ENTRY', '5-C-3 GATE-2', '203', '4-C-1F', 'STAIRS-2', '2B-4E', '2-A-2F', '2-A-2 GATE-1', 'G-A CORRIDOR-1', '3A-2A', 'bedroom', '1C-2C', '1A-2 Entry-1', 'Auditorium Entry 3', '4-B-CORRIDOR-2', '4-A-2J', '3B-5 Gate 1', '2-A CORRIDOR 2', '3-C CORRIDOR 2', '3-A CORRIDOR 1', '2C-1A', '4-C-1D', '2-C-2 GATE-1', '6-B-1 GATE-1', '5-C CORRIDOR-1', 'Lab GB-4-B', '3B-4I', '4-B-CORRIDOR-1', 'Control Room', 'Picup-drop R and I Park', 'Female Washroom 2', '3C-2 Gate-1', '6-B-LIFT LOBBY-2', 'Conference Room', '2-C-2 GATE-2', '6-A-1 GATE-2', '2C-A4', '3B-4B', '4-C BALCONY', '4-C CORRIDOR-2', 'STAIRS 3', '3B-5D', '2-A-1A', '1A-1 Entry-2', '5-C-1 GATE-2', 'G-A-3-A', 'Front Office', '4-C-1B', '2-A-1 GATE-2', 'Store-B-L1', 'Corridor1 - 3B', '4-C GATE-1', '5-C-4 GATE-1', 'Kritikal Solutions', '504', '3-A LIFT LOBBY-1', 'Auditorium Entry 1', '3-C4', 'Conference L2 -2', '2-C LIFT LOBBY-3', '301', '3-C LIFT LOBBY-4', 'Enterance Hall', 'Male Washroom 2', '5-A-2B', '4-C-1I', '4-B LIFT LOBBY-2', '3B-3', '4-A-2E', '3B-4D', '2B-2', '4-C-1A', '3A-2C - Dweepi', '3B-5F', '3C-A4', 'STAIRS-5', '2B-4F', 'STAIRS 6', '2-A-2A', '3A-2B', '5-A-1 GATE-2', 'pantry 6-A', '303', '5-C-2 GATE-1', '1A-2 Entry-2', '1A-1A', '2-A-2H', '4-A-2G', '6-B-1 GATE-2', 'Store Room', '3A-2E', '2-A-1A2', '5-C BALCONY', '3A-2I', '2B-4 GATE-1', 'Projector Room', '5-A-1B', '4-C-1G', '1C-1A', '2B-4A', 'STAIRS-4', 'Breadbox', '4-B-1G', '4-A-2K', 'Main Entry Research Park', '3A/D Terrace', 'Entry-1B-3', 'G-D LIFT LOBBY-5', '204', '2B-5A', '4-B-1E', '4-B-1L', '6-C-LIFT LOBBY-3', '3A-1A', 'Pantry-A-G', '1A-2B']\n"
     ]
    }
   ],
   "source": [
    "with open(\"unique_names.json\",\"r\") as file:\n",
    "    names=json.load(file)\n",
    "\n",
    "with open(\"conciseRoom.json\",\"r\") as file:\n",
    "    temp=json.load(file)\n",
    "    rooms={}\n",
    "    for i in temp:\n",
    "        key=list(i.keys())[0]\n",
    "        rooms[key]=i[key]\n",
    "\n",
    "with open(\"floors.json\",\"r\") as file:\n",
    "    floors=json.load(file)\n",
    "\n",
    "print(names)"
   ]
  },
  {
   "cell_type": "code",
   "execution_count": 9,
   "metadata": {},
   "outputs": [],
   "source": [
    "def functionCall(query,names,rooms,floors):\n",
    "    msg=\"Reply with JSON for the following question:\"\n",
    "    msg=msg+query\n",
    "    genOutput= ollama.chat(\n",
    "            model='functionCallQ4Temp0',\n",
    "            messages=[{'role': 'user', 'content': msg}],\n",
    "            stream=False,\n",
    "        )['message']['content']\n",
    "    functionName= json.loads(convert(genOutput))['function_name']  \n",
    "    para1=None\n",
    "    if('parameter_1' in json.loads(convert(genOutput)).keys()):\n",
    "        para1=json.loads(convert(genOutput))['parameter_1']\n",
    "    if(functionName==\"roomInfo\"):\n",
    "        return roomInfo(para1,para1,names,5,rooms)\n",
    "    elif(functionName==\"floorInfo\"):\n",
    "        return \"use this to answer the query.floor Information:\"+str(floorInfo(para1,floors))\n",
    "    else:\n",
    "        return \"Follow Up\"\n",
    "\n",
    "    \n",
    "    \n",
    "def floorInfo(floor,floor_list):\n",
    "    if(str(floor) in floor_list.keys()):\n",
    "        s=\"Room Information:{\"\n",
    "        s+=str(floor_list[str(floor)])\n",
    "        s+=\"Room Found:True\"\n",
    "        s=s+\"}\"\n",
    "        return s\n",
    "\n",
    "def roomInfo(currName,input_string, string_list, n,room_list):\n",
    "    if(input_string==None):\n",
    "        input_string=currName\n",
    "    \n",
    "    stripped_input = input_string.replace('-', '')\n",
    "    \n",
    "    # Create a dictionary to map stripped strings to original strings\n",
    "    stripped_to_original = {s.replace('-', ''): s for s in string_list}\n",
    "    \n",
    "    # Use process.extract with stripped strings\n",
    "    matches = process.extract(stripped_input, stripped_to_original.keys(), limit=n)\n",
    "    \n",
    "    # Print matches for debugging\n",
    "    print(matches)\n",
    "    \n",
    "    # Return original strings (with dashes) corresponding to the matches\n",
    "    context=\"Top matches:{\"\n",
    "    for i in matches:\n",
    "        context+=stripped_to_original[i[0]]+\", \"\n",
    "    context+=\"}\\n\"\n",
    "    context+=\"Room Information:{\"\n",
    "    if(matches[0][1]>90):\n",
    "        context+=str(room_list[stripped_to_original[matches[0][0]]])\n",
    "        currName=stripped_to_original[matches[0][0]]\n",
    "    context+=\"}\\n\"\n",
    "    if(matches[0][1]>90):\n",
    "        context=\"Room Found:True\"+context\n",
    "    else:\n",
    "        context=\"Room Found:False\"+context\n",
    "\n",
    "    print(\"currName:\"+currName)\n",
    "    print(\"inputString:\"+input_string)\n",
    "    \n",
    "    return context\n",
    "\n",
    "def convert(str):\n",
    "    nstr=\"\"\n",
    "    for i in range(1,len(str)-1):\n",
    "        if(str[i]=='\\''):\n",
    "            nstr+='\\\"'\n",
    "        else:\n",
    "            nstr+=str[i]\n",
    "    return nstr\n",
    "\n",
    "def chat(query,name_list,room_list,floor_list):\n",
    "    context=\"{\"\n",
    "    context+=functionCall(query,name_list,room_list,floor_list)\n",
    "    context+=\"context:\"+\"{\"+context+\"}\"+\"\\n\"\n",
    "    context+=\"query:{\"+query+\"}\\n\"\n",
    "    context+=\"}\"\n",
    "\n",
    "    print(context)\n",
    "    \n",
    "    stream = ollama.chat(\n",
    "        model='impRag',\n",
    "        messages=[{'role': 'user', 'content': context}],\n",
    "        stream=True,\n",
    "    )\n",
    "    \n",
    "    for chunk in stream:\n",
    "        print(chunk['message']['content'], end='', flush=True)"
   ]
  },
  {
   "cell_type": "code",
   "execution_count": 10,
   "metadata": {},
   "outputs": [
    {
     "name": "stdout",
     "output_type": "stream",
     "text": [
      "{Follow Upcontext:{{Follow Up}\n",
      "query:{Does it have whiteboard?}\n",
      "}\n",
      "Based on the provided information, I do not have any specific details about the room's amenities. However, according to the floor information, there is a utility room with an electrical projector, which suggests that there might be some presentation or meeting facilities available.\n",
      "\n",
      "To answer your query: Unfortunately, I don't have any information about whether 1A-2B has a whiteboard or not. You may want to contact the building management or the room's occupants directly for more information on this specific amenity."
     ]
    }
   ],
   "source": [
    "msg=\"Does it have whiteboard?\"\n",
    "#functionCall(msg,names,rooms,floors)\n",
    "chat(msg,names,rooms,floors)"
   ]
  },
  {
   "cell_type": "code",
   "execution_count": 5,
   "metadata": {},
   "outputs": [
    {
     "data": {
      "text/plain": [
       "{'status': 'success'}"
      ]
     },
     "execution_count": 5,
     "metadata": {},
     "output_type": "execute_result"
    }
   ],
   "source": [
    "modelfile=\"\"\n",
    "with open(\"chatInterface.txt\",\"r\") as file:\n",
    "    for i in file:\n",
    "        modelfile+=i\n",
    "ollama.create(model='chatInterface', modelfile=modelfile)"
   ]
  }
 ],
 "metadata": {
  "kernelspec": {
   "display_name": "Python 3",
   "language": "python",
   "name": "python3"
  },
  "language_info": {
   "codemirror_mode": {
    "name": "ipython",
    "version": 3
   },
   "file_extension": ".py",
   "mimetype": "text/x-python",
   "name": "python",
   "nbconvert_exporter": "python",
   "pygments_lexer": "ipython3",
   "version": "3.12.4"
  }
 },
 "nbformat": 4,
 "nbformat_minor": 2
}
